{
 "cells": [
  {
   "cell_type": "markdown",
   "id": "df73a2d6",
   "metadata": {},
   "source": [
    "Q1. In the below elements which of them are value or an expression? eg: Values can be integer or string and expressions will be mathematical operators.\n",
    "*\n",
    "'hello'\n",
    "-87.8\n",
    "-\n",
    "/\n",
    "+\n",
    "6\n",
    "\n",
    "Ans1 :\n",
    "Values are  : 'hello', -87.8, 6\n",
    "Expressions are : *,- ,/,+"
   ]
  },
  {
   "cell_type": "markdown",
   "id": "776a32bb",
   "metadata": {},
   "source": [
    "Q2. What is the difference between string and variable?\n",
    "Ans 2 : String stores alphanumeric data type values like str1 and str2  \n",
    "eg  str1 = \"My name is Ravi\"\n",
    "    str2 = 'a'\n",
    "    \n",
    "    variable can store all data types"
   ]
  },
  {
   "cell_type": "markdown",
   "id": "7c48a37b",
   "metadata": {},
   "source": [
    "Q3: Describe three different data types.\n",
    "Ans 3 : Integer, String, Float"
   ]
  },
  {
   "cell_type": "markdown",
   "id": "95e98c49",
   "metadata": {},
   "source": [
    "Q4: What is an expression made up of? What do all expressions do?\n",
    "\n",
    "Ans : expression are made of integer, floaring data type which are used for calculation. Also used for combing string values"
   ]
  },
  {
   "cell_type": "markdown",
   "id": "c2f454a8",
   "metadata": {},
   "source": [
    "Q5 .This assignment statements, like spam = 10. What is the difference between an\n",
    "expression and a statement?\n",
    "\n",
    "Ans5: Expression is combination of integer, float data type combined with numerical operators\n",
    "While Statement is assignment of values to variables along with calculation done"
   ]
  },
  {
   "cell_type": "markdown",
   "id": "70133e2d",
   "metadata": {},
   "source": [
    "Q6. After running the following code, what does the variable bacon contain?\n",
    "bacon = 22\n",
    "bacon + 1\n",
    "\n",
    "Ans6 . 23"
   ]
  },
  {
   "cell_type": "markdown",
   "id": "1c34a7b7",
   "metadata": {},
   "source": [
    "Q7. What should the values of the following two terms be?\n",
    "'spam' +'spamspam'\n",
    "'spam'*3\n",
    "\n",
    "Ans 7  spamspamspam \n",
    "'spamspamspam'"
   ]
  },
  {
   "cell_type": "markdown",
   "id": "35654d1b",
   "metadata": {},
   "source": [
    "Q8.  Why is eggs a valid variable name while 100 is invalid?\n",
    "\n",
    "Ans 8. Variable can only start with alphabet or character values"
   ]
  },
  {
   "cell_type": "markdown",
   "id": "ba64b770",
   "metadata": {},
   "source": [
    "Q9. What three functions can be used to get the integer, floating-point number, or string\n",
    "version of a value?\n",
    "\n",
    "Ans a = 1\n",
    "1. b = int(a)\n",
    "2. c = float(a)\n",
    "3. d = float(a)\n"
   ]
  },
  {
   "cell_type": "markdown",
   "id": "d88e3362",
   "metadata": {},
   "source": [
    "Q10. Why does this expression cause an error? How can you fix it?\n",
    "'I have eaten ' + str(99) + ' burritos'\n",
    "Ans 10. Integer cannot be concated. We need to typecast as below to string before running the concatenation\n",
    "'I have eaten ' + str(99) + ' burritos'"
   ]
  },
  {
   "cell_type": "code",
   "execution_count": null,
   "id": "6a471139",
   "metadata": {},
   "outputs": [],
   "source": []
  },
  {
   "cell_type": "code",
   "execution_count": null,
   "id": "4c8c7c06",
   "metadata": {},
   "outputs": [],
   "source": []
  },
  {
   "cell_type": "code",
   "execution_count": 75,
   "id": "5e1bf8c4",
   "metadata": {},
   "outputs": [],
   "source": []
  },
  {
   "cell_type": "code",
   "execution_count": null,
   "id": "3299ab61",
   "metadata": {},
   "outputs": [],
   "source": []
  },
  {
   "cell_type": "code",
   "execution_count": null,
   "id": "66855f75",
   "metadata": {},
   "outputs": [],
   "source": []
  },
  {
   "cell_type": "code",
   "execution_count": null,
   "id": "11314ae6",
   "metadata": {},
   "outputs": [],
   "source": []
  },
  {
   "cell_type": "code",
   "execution_count": null,
   "id": "ac779ac9",
   "metadata": {},
   "outputs": [],
   "source": []
  },
  {
   "cell_type": "code",
   "execution_count": null,
   "id": "8cd703c9",
   "metadata": {},
   "outputs": [],
   "source": []
  },
  {
   "cell_type": "code",
   "execution_count": null,
   "id": "b492776a",
   "metadata": {},
   "outputs": [],
   "source": []
  }
 ],
 "metadata": {
  "kernelspec": {
   "display_name": "Python 3 (ipykernel)",
   "language": "python",
   "name": "python3"
  },
  "language_info": {
   "codemirror_mode": {
    "name": "ipython",
    "version": 3
   },
   "file_extension": ".py",
   "mimetype": "text/x-python",
   "name": "python",
   "nbconvert_exporter": "python",
   "pygments_lexer": "ipython3",
   "version": "3.9.7"
  }
 },
 "nbformat": 4,
 "nbformat_minor": 5
}
